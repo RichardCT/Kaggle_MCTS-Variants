{
 "cells": [
  {
   "cell_type": "code",
   "execution_count": 1,
   "id": "4c246a56",
   "metadata": {
    "_cell_guid": "b1076dfc-b9ad-4769-8c92-a6c4dae69d19",
    "_uuid": "8f2839f25d086af736a60e9eeb907d3b93b6e0e5",
    "execution": {
     "iopub.execute_input": "2024-11-19T04:55:04.099448Z",
     "iopub.status.busy": "2024-11-19T04:55:04.097750Z",
     "iopub.status.idle": "2024-11-19T04:55:07.467664Z",
     "shell.execute_reply": "2024-11-19T04:55:07.466321Z"
    },
    "papermill": {
     "duration": 3.377289,
     "end_time": "2024-11-19T04:55:07.470352",
     "exception": false,
     "start_time": "2024-11-19T04:55:04.093063",
     "status": "completed"
    },
    "tags": []
   },
   "outputs": [],
   "source": [
    "# This Python 3 environment comes with many helpful analytics libraries installed\n",
    "# It is defined by the kaggle/python Docker image: https://github.com/kaggle/docker-python\n",
    "# For example, here's several helpful packages to load\n",
    "import os\n",
    "import numpy as np # linear algebra\n",
    "import pandas as pd # data processing, CSV file I/O (e.g. pd.read_csv)\n",
    "import xgboost as xgb\n",
    "import polars as pl\n",
    "import joblib\n",
    "import kaggle_evaluation.mcts_inference_server"
   ]
  },
  {
   "cell_type": "code",
   "execution_count": 2,
   "id": "e784118c",
   "metadata": {
    "execution": {
     "iopub.execute_input": "2024-11-19T04:55:07.477576Z",
     "iopub.status.busy": "2024-11-19T04:55:07.476086Z",
     "iopub.status.idle": "2024-11-19T04:55:07.492047Z",
     "shell.execute_reply": "2024-11-19T04:55:07.490814Z"
    },
    "papermill": {
     "duration": 0.022136,
     "end_time": "2024-11-19T04:55:07.494766",
     "exception": false,
     "start_time": "2024-11-19T04:55:07.472630",
     "status": "completed"
    },
    "tags": []
   },
   "outputs": [],
   "source": [
    "def create_agent_map(row):\n",
    "    selection_map = {\n",
    "        'UCB1': 1,\n",
    "        'UCB1GRAVE': 2,\n",
    "        'ProgressiveHistory': 3,\n",
    "        'UCB1Tuned': 4\n",
    "    }\n",
    "    \n",
    "    playout_map = {\n",
    "        'Random200': 1,\n",
    "        'MAST': 2,\n",
    "        'NST': 3\n",
    "    }\n",
    "\n",
    "    parts = row.split('-')\n",
    "\n",
    "    selection = parts[1]\n",
    "    exploration_const = float(parts[2])\n",
    "    playout = parts[3]\n",
    "    score_bounds = parts[4] == 'true'\n",
    "\n",
    "    # Convert categorical values to numeric values\n",
    "    selection_value = selection_map.get(selection)\n",
    "    playout_value = playout_map.get(playout)\n",
    "    score_bounds_value = 1 if score_bounds else 0\n",
    "\n",
    "    # Create the embedding map\n",
    "    return [selection_value, exploration_const, playout_value, score_bounds_value]\n",
    "\n",
    "def data_preprocess(test_df):\n",
    "    test_features = test_df.drop(columns=['Id', 'GameRulesetName', 'agent1', 'agent2', 'EnglishRules', 'LudRules'])\n",
    "    \n",
    "    test_features = test_features.fillna(test_features.mean())  # Fill NaNs with column means\n",
    "    test_features = test_features.fillna(0)  # Fill remaining NaNs with 0\n",
    "    test_features = test_features.replace([np.inf, -np.inf], np.nan)  # Replace infinities with NaN\n",
    "    test_features = test_features.fillna(0)  # Handle infinities turned into NaNs\n",
    "    assert test_features.isna().sum().sum() == 0, \"NaN values still present after fillna.\"\n",
    "    \n",
    "    # Load scaler and pca model\n",
    "    scaler = joblib.load('/kaggle/input/scaler_pca/scikitlearn/default/1/scaler.pkl')\n",
    "    pca = joblib.load('/kaggle/input/scaler_pca/scikitlearn/default/1/pca_model.pkl')\n",
    "    \n",
    "    # Fit test_df to scaler and pca\n",
    "    test_features_scaled = scaler.transform(test_features)\n",
    "    test_features_pca = pca.transform(test_features_scaled)\n",
    "    test_pca_df = pd.DataFrame(test_features_pca, columns=[f\"pca_{i+1}\" for i in range(test_features_pca.shape[1])])\n",
    "    \n",
    "    # Categorize MCTS\n",
    "    agents_test = test_df[['agent1', 'agent2']]\n",
    "    pca_df_test = pd.concat([agents_test, test_pca_df], axis=1)\n",
    "    pca_df_test[['agent1_emb1', 'agent1_emb2', 'agent1_emb3', 'agent1_emb4']] = pd.DataFrame(\n",
    "    agents_test['agent1'].apply(create_agent_map).tolist(), index=pca_df_test.index\n",
    "    )\n",
    "    pca_df_test[['agent2_emb1', 'agent2_emb2', 'agent2_emb3', 'agent2_emb4']] = pd.DataFrame(\n",
    "        agents_test['agent2'].apply(create_agent_map).tolist(), index=pca_df_test.index\n",
    "    )\n",
    "    pca_df_test = pca_df_test.drop(columns=['agent1', 'agent2'])\n",
    "    \n",
    "    return pca_df_test\n",
    "\n",
    "def predict(test: pl.DataFrame, sample_sub: pl.DataFrame):\n",
    "    test_df = test.to_pandas()\n",
    "    \n",
    "    # Data pre-process\n",
    "    pca_df_test = data_preprocess(test_df)\n",
    "    test_data = xgb.DMatrix(pca_df_test)\n",
    "    \n",
    "    # Load model\n",
    "    model = xgb.Booster()\n",
    "    model.load_model('/kaggle/input/xgboost_pca/scikitlearn/default/1/xgboost_model_fulldata.json')\n",
    "    \n",
    "    # Make predictions\n",
    "    predictions = model.predict(test_data)\n",
    "\n",
    "    sample_sub = sample_sub.with_columns(pl.col('utility_agent1') + predictions)\n",
    "    \n",
    "    return sample_sub"
   ]
  },
  {
   "cell_type": "code",
   "execution_count": 3,
   "id": "28483d20",
   "metadata": {
    "execution": {
     "iopub.execute_input": "2024-11-19T04:55:07.500240Z",
     "iopub.status.busy": "2024-11-19T04:55:07.499825Z",
     "iopub.status.idle": "2024-11-19T04:55:10.533223Z",
     "shell.execute_reply": "2024-11-19T04:55:10.532090Z"
    },
    "papermill": {
     "duration": 3.039202,
     "end_time": "2024-11-19T04:55:10.535950",
     "exception": false,
     "start_time": "2024-11-19T04:55:07.496748",
     "status": "completed"
    },
    "tags": []
   },
   "outputs": [
    {
     "name": "stderr",
     "output_type": "stream",
     "text": [
      "/tmp/ipykernel_17/1875400978.py:33: FutureWarning: Downcasting object dtype arrays on .fillna, .ffill, .bfill is deprecated and will change in a future version. Call result.infer_objects(copy=False) instead. To opt-in to the future behavior, set `pd.set_option('future.no_silent_downcasting', True)`\n",
      "  test_features = test_features.fillna(test_features.mean())  # Fill NaNs with column means\n",
      "/opt/conda/lib/python3.10/site-packages/sklearn/base.py:318: UserWarning: Trying to unpickle estimator StandardScaler from version 1.5.2 when using version 1.2.2. This might lead to breaking code or invalid results. Use at your own risk. For more info please refer to:\n",
      "https://scikit-learn.org/stable/model_persistence.html#security-maintainability-limitations\n",
      "  warnings.warn(\n",
      "/opt/conda/lib/python3.10/site-packages/sklearn/base.py:318: UserWarning: Trying to unpickle estimator PCA from version 1.5.2 when using version 1.2.2. This might lead to breaking code or invalid results. Use at your own risk. For more info please refer to:\n",
      "https://scikit-learn.org/stable/model_persistence.html#security-maintainability-limitations\n",
      "  warnings.warn(\n"
     ]
    }
   ],
   "source": [
    "inference_server = kaggle_evaluation.mcts_inference_server.MCTSInferenceServer(predict)\n",
    "\n",
    "if os.getenv('KAGGLE_IS_COMPETITION_RERUN'):\n",
    "    inference_server.serve()\n",
    "else:\n",
    "    inference_server.run_local_gateway(\n",
    "        (\n",
    "            '/kaggle/input/um-game-playing-strength-of-mcts-variants/test.csv',\n",
    "            '/kaggle/input/um-game-playing-strength-of-mcts-variants/sample_submission.csv'\n",
    "        )\n",
    "    )"
   ]
  }
 ],
 "metadata": {
  "kaggle": {
   "accelerator": "none",
   "dataSources": [
    {
     "databundleVersionId": 9515283,
     "sourceId": 70089,
     "sourceType": "competition"
    },
    {
     "modelId": 168264,
     "modelInstanceId": 145692,
     "sourceId": 171193,
     "sourceType": "modelInstanceVersion"
    },
    {
     "modelId": 168352,
     "modelInstanceId": 145781,
     "sourceId": 171293,
     "sourceType": "modelInstanceVersion"
    }
   ],
   "dockerImageVersionId": 30786,
   "isGpuEnabled": false,
   "isInternetEnabled": false,
   "language": "python",
   "sourceType": "notebook"
  },
  "kernelspec": {
   "display_name": "Python 3",
   "language": "python",
   "name": "python3"
  },
  "language_info": {
   "codemirror_mode": {
    "name": "ipython",
    "version": 3
   },
   "file_extension": ".py",
   "mimetype": "text/x-python",
   "name": "python",
   "nbconvert_exporter": "python",
   "pygments_lexer": "ipython3",
   "version": "3.10.14"
  },
  "papermill": {
   "default_parameters": {},
   "duration": 10.416205,
   "end_time": "2024-11-19T04:55:11.362193",
   "environment_variables": {},
   "exception": null,
   "input_path": "__notebook__.ipynb",
   "output_path": "__notebook__.ipynb",
   "parameters": {},
   "start_time": "2024-11-19T04:55:00.945988",
   "version": "2.6.0"
  }
 },
 "nbformat": 4,
 "nbformat_minor": 5
}
